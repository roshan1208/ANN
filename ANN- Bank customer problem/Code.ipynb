{
 "cells": [
  {
   "cell_type": "code",
   "execution_count": 1,
   "metadata": {},
   "outputs": [],
   "source": [
    "import numpy as np\n",
    "import pandas as pd\n",
    "import matplotlib.pyplot as plt\n",
    "import seaborn as sns\n",
    "%matplotlib inline"
   ]
  },
  {
   "cell_type": "code",
   "execution_count": 2,
   "metadata": {},
   "outputs": [],
   "source": [
    "df = pd.read_csv('Churn_Modelling.csv')"
   ]
  },
  {
   "cell_type": "code",
   "execution_count": 3,
   "metadata": {},
   "outputs": [
    {
     "data": {
      "text/html": [
       "<div>\n",
       "<style scoped>\n",
       "    .dataframe tbody tr th:only-of-type {\n",
       "        vertical-align: middle;\n",
       "    }\n",
       "\n",
       "    .dataframe tbody tr th {\n",
       "        vertical-align: top;\n",
       "    }\n",
       "\n",
       "    .dataframe thead th {\n",
       "        text-align: right;\n",
       "    }\n",
       "</style>\n",
       "<table border=\"1\" class=\"dataframe\">\n",
       "  <thead>\n",
       "    <tr style=\"text-align: right;\">\n",
       "      <th></th>\n",
       "      <th>RowNumber</th>\n",
       "      <th>CustomerId</th>\n",
       "      <th>Surname</th>\n",
       "      <th>CreditScore</th>\n",
       "      <th>Geography</th>\n",
       "      <th>Gender</th>\n",
       "      <th>Age</th>\n",
       "      <th>Tenure</th>\n",
       "      <th>Balance</th>\n",
       "      <th>NumOfProducts</th>\n",
       "      <th>HasCrCard</th>\n",
       "      <th>IsActiveMember</th>\n",
       "      <th>EstimatedSalary</th>\n",
       "      <th>Exited</th>\n",
       "    </tr>\n",
       "  </thead>\n",
       "  <tbody>\n",
       "    <tr>\n",
       "      <th>0</th>\n",
       "      <td>1</td>\n",
       "      <td>15634602</td>\n",
       "      <td>Hargrave</td>\n",
       "      <td>619</td>\n",
       "      <td>France</td>\n",
       "      <td>Female</td>\n",
       "      <td>42</td>\n",
       "      <td>2</td>\n",
       "      <td>0.00</td>\n",
       "      <td>1</td>\n",
       "      <td>1</td>\n",
       "      <td>1</td>\n",
       "      <td>101348.88</td>\n",
       "      <td>1</td>\n",
       "    </tr>\n",
       "    <tr>\n",
       "      <th>1</th>\n",
       "      <td>2</td>\n",
       "      <td>15647311</td>\n",
       "      <td>Hill</td>\n",
       "      <td>608</td>\n",
       "      <td>Spain</td>\n",
       "      <td>Female</td>\n",
       "      <td>41</td>\n",
       "      <td>1</td>\n",
       "      <td>83807.86</td>\n",
       "      <td>1</td>\n",
       "      <td>0</td>\n",
       "      <td>1</td>\n",
       "      <td>112542.58</td>\n",
       "      <td>0</td>\n",
       "    </tr>\n",
       "    <tr>\n",
       "      <th>2</th>\n",
       "      <td>3</td>\n",
       "      <td>15619304</td>\n",
       "      <td>Onio</td>\n",
       "      <td>502</td>\n",
       "      <td>France</td>\n",
       "      <td>Female</td>\n",
       "      <td>42</td>\n",
       "      <td>8</td>\n",
       "      <td>159660.80</td>\n",
       "      <td>3</td>\n",
       "      <td>1</td>\n",
       "      <td>0</td>\n",
       "      <td>113931.57</td>\n",
       "      <td>1</td>\n",
       "    </tr>\n",
       "    <tr>\n",
       "      <th>3</th>\n",
       "      <td>4</td>\n",
       "      <td>15701354</td>\n",
       "      <td>Boni</td>\n",
       "      <td>699</td>\n",
       "      <td>France</td>\n",
       "      <td>Female</td>\n",
       "      <td>39</td>\n",
       "      <td>1</td>\n",
       "      <td>0.00</td>\n",
       "      <td>2</td>\n",
       "      <td>0</td>\n",
       "      <td>0</td>\n",
       "      <td>93826.63</td>\n",
       "      <td>0</td>\n",
       "    </tr>\n",
       "    <tr>\n",
       "      <th>4</th>\n",
       "      <td>5</td>\n",
       "      <td>15737888</td>\n",
       "      <td>Mitchell</td>\n",
       "      <td>850</td>\n",
       "      <td>Spain</td>\n",
       "      <td>Female</td>\n",
       "      <td>43</td>\n",
       "      <td>2</td>\n",
       "      <td>125510.82</td>\n",
       "      <td>1</td>\n",
       "      <td>1</td>\n",
       "      <td>1</td>\n",
       "      <td>79084.10</td>\n",
       "      <td>0</td>\n",
       "    </tr>\n",
       "  </tbody>\n",
       "</table>\n",
       "</div>"
      ],
      "text/plain": [
       "   RowNumber  CustomerId   Surname  CreditScore Geography  Gender  Age  \\\n",
       "0          1    15634602  Hargrave          619    France  Female   42   \n",
       "1          2    15647311      Hill          608     Spain  Female   41   \n",
       "2          3    15619304      Onio          502    France  Female   42   \n",
       "3          4    15701354      Boni          699    France  Female   39   \n",
       "4          5    15737888  Mitchell          850     Spain  Female   43   \n",
       "\n",
       "   Tenure    Balance  NumOfProducts  HasCrCard  IsActiveMember  \\\n",
       "0       2       0.00              1          1               1   \n",
       "1       1   83807.86              1          0               1   \n",
       "2       8  159660.80              3          1               0   \n",
       "3       1       0.00              2          0               0   \n",
       "4       2  125510.82              1          1               1   \n",
       "\n",
       "   EstimatedSalary  Exited  \n",
       "0        101348.88       1  \n",
       "1        112542.58       0  \n",
       "2        113931.57       1  \n",
       "3         93826.63       0  \n",
       "4         79084.10       0  "
      ]
     },
     "execution_count": 3,
     "metadata": {},
     "output_type": "execute_result"
    }
   ],
   "source": [
    "df.head()"
   ]
  },
  {
   "cell_type": "code",
   "execution_count": 4,
   "metadata": {},
   "outputs": [
    {
     "name": "stdout",
     "output_type": "stream",
     "text": [
      "<class 'pandas.core.frame.DataFrame'>\n",
      "RangeIndex: 10000 entries, 0 to 9999\n",
      "Data columns (total 14 columns):\n",
      " #   Column           Non-Null Count  Dtype  \n",
      "---  ------           --------------  -----  \n",
      " 0   RowNumber        10000 non-null  int64  \n",
      " 1   CustomerId       10000 non-null  int64  \n",
      " 2   Surname          10000 non-null  object \n",
      " 3   CreditScore      10000 non-null  int64  \n",
      " 4   Geography        10000 non-null  object \n",
      " 5   Gender           10000 non-null  object \n",
      " 6   Age              10000 non-null  int64  \n",
      " 7   Tenure           10000 non-null  int64  \n",
      " 8   Balance          10000 non-null  float64\n",
      " 9   NumOfProducts    10000 non-null  int64  \n",
      " 10  HasCrCard        10000 non-null  int64  \n",
      " 11  IsActiveMember   10000 non-null  int64  \n",
      " 12  EstimatedSalary  10000 non-null  float64\n",
      " 13  Exited           10000 non-null  int64  \n",
      "dtypes: float64(2), int64(9), object(3)\n",
      "memory usage: 1.1+ MB\n"
     ]
    }
   ],
   "source": [
    "df.info()"
   ]
  },
  {
   "cell_type": "code",
   "execution_count": 9,
   "metadata": {},
   "outputs": [
    {
     "data": {
      "text/plain": [
       "RowNumber          0\n",
       "CustomerId         0\n",
       "Surname            0\n",
       "CreditScore        0\n",
       "Geography          0\n",
       "Gender             0\n",
       "Age                0\n",
       "Tenure             0\n",
       "Balance            0\n",
       "NumOfProducts      0\n",
       "HasCrCard          0\n",
       "IsActiveMember     0\n",
       "EstimatedSalary    0\n",
       "Exited             0\n",
       "dtype: int64"
      ]
     },
     "execution_count": 9,
     "metadata": {},
     "output_type": "execute_result"
    }
   ],
   "source": [
    "df.isnull().sum()"
   ]
  },
  {
   "cell_type": "code",
   "execution_count": 12,
   "metadata": {},
   "outputs": [
    {
     "data": {
      "text/plain": [
       "<AxesSubplot:xlabel='Exited', ylabel='count'>"
      ]
     },
     "execution_count": 12,
     "metadata": {},
     "output_type": "execute_result"
    },
    {
     "data": {
      "image/png": "[encoded data removed]",
      "text/plain": [
       "<Figure size 432x288 with 1 Axes>"
      ]
     },
     "metadata": {
      "needs_background": "light"
     },
     "output_type": "display_data"
    }
   ],
   "source": [
    "sns.countplot('Exited',data=df, hue = 'Gender')"
   ]
  },
  {
   "cell_type": "code",
   "execution_count": 13,
   "metadata": {},
   "outputs": [
    {
     "data": {
      "text/plain": [
       "<AxesSubplot:xlabel='Exited', ylabel='count'>"
      ]
     },
     "execution_count": 13,
     "metadata": {},
     "output_type": "execute_result"
    },
    {
     "data": {
      "image/png": "[encoded data removed]",
      "text/plain": [
       "<Figure size 432x288 with 1 Axes>"
      ]
     },
     "metadata": {
      "needs_background": "light"
     },
     "output_type": "display_data"
    }
   ],
   "source": [
    "sns.countplot('Exited',data=df, hue = 'HasCrCard')"
   ]
  },
  {
   "cell_type": "code",
   "execution_count": 15,
   "metadata": {},
   "outputs": [
    {
     "data": {
      "text/plain": [
       "460"
      ]
     },
     "execution_count": 15,
     "metadata": {},
     "output_type": "execute_result"
    }
   ],
   "source": [
    "df['CreditScore'].nunique()"
   ]
  },
  {
   "cell_type": "code",
   "execution_count": 16,
   "metadata": {},
   "outputs": [
    {
     "data": {
      "text/plain": [
       "2932"
      ]
     },
     "execution_count": 16,
     "metadata": {},
     "output_type": "execute_result"
    }
   ],
   "source": [
    "df['Surname'].nunique()"
   ]
  },
  {
   "cell_type": "code",
   "execution_count": 18,
   "metadata": {},
   "outputs": [
    {
     "data": {
      "text/plain": [
       "3"
      ]
     },
     "execution_count": 18,
     "metadata": {},
     "output_type": "execute_result"
    }
   ],
   "source": [
    "df['Geography'].nunique()"
   ]
  },
  {
   "cell_type": "code",
   "execution_count": 19,
   "metadata": {},
   "outputs": [
    {
     "data": {
      "text/plain": [
       "<AxesSubplot:xlabel='Exited', ylabel='count'>"
      ]
     },
     "execution_count": 19,
     "metadata": {},
     "output_type": "execute_result"
    },
    {
     "data": {
      "image/png": "[encoded data removed]",
      "text/plain": [
       "<Figure size 432x288 with 1 Axes>"
      ]
     },
     "metadata": {
      "needs_background": "light"
     },
     "output_type": "display_data"
    }
   ],
   "source": [
    "sns.countplot('Exited',data=df, hue = 'Geography')"
   ]
  },
  {
   "cell_type": "code",
   "execution_count": 20,
   "metadata": {},
   "outputs": [],
   "source": [
    "geo = pd.get_dummies(df['Geography'], drop_first = True)"
   ]
  },
  {
   "cell_type": "code",
   "execution_count": 21,
   "metadata": {},
   "outputs": [
    {
     "data": {
      "text/html": [
       "<div>\n",
       "<style scoped>\n",
       "    .dataframe tbody tr th:only-of-type {\n",
       "        vertical-align: middle;\n",
       "    }\n",
       "\n",
       "    .dataframe tbody tr th {\n",
       "        vertical-align: top;\n",
       "    }\n",
       "\n",
       "    .dataframe thead th {\n",
       "        text-align: right;\n",
       "    }\n",
       "</style>\n",
       "<table border=\"1\" class=\"dataframe\">\n",
       "  <thead>\n",
       "    <tr style=\"text-align: right;\">\n",
       "      <th></th>\n",
       "      <th>Germany</th>\n",
       "      <th>Spain</th>\n",
       "    </tr>\n",
       "  </thead>\n",
       "  <tbody>\n",
       "    <tr>\n",
       "      <th>0</th>\n",
       "      <td>0</td>\n",
       "      <td>0</td>\n",
       "    </tr>\n",
       "    <tr>\n",
       "      <th>1</th>\n",
       "      <td>0</td>\n",
       "      <td>1</td>\n",
       "    </tr>\n",
       "    <tr>\n",
       "      <th>2</th>\n",
       "      <td>0</td>\n",
       "      <td>0</td>\n",
       "    </tr>\n",
       "    <tr>\n",
       "      <th>3</th>\n",
       "      <td>0</td>\n",
       "      <td>0</td>\n",
       "    </tr>\n",
       "    <tr>\n",
       "      <th>4</th>\n",
       "      <td>0</td>\n",
       "      <td>1</td>\n",
       "    </tr>\n",
       "    <tr>\n",
       "      <th>...</th>\n",
       "      <td>...</td>\n",
       "      <td>...</td>\n",
       "    </tr>\n",
       "    <tr>\n",
       "      <th>9995</th>\n",
       "      <td>0</td>\n",
       "      <td>0</td>\n",
       "    </tr>\n",
       "    <tr>\n",
       "      <th>9996</th>\n",
       "      <td>0</td>\n",
       "      <td>0</td>\n",
       "    </tr>\n",
       "    <tr>\n",
       "      <th>9997</th>\n",
       "      <td>0</td>\n",
       "      <td>0</td>\n",
       "    </tr>\n",
       "    <tr>\n",
       "      <th>9998</th>\n",
       "      <td>1</td>\n",
       "      <td>0</td>\n",
       "    </tr>\n",
       "    <tr>\n",
       "      <th>9999</th>\n",
       "      <td>0</td>\n",
       "      <td>0</td>\n",
       "    </tr>\n",
       "  </tbody>\n",
       "</table>\n",
       "<p>10000 rows × 2 columns</p>\n",
       "</div>"
      ],
      "text/plain": [
       "      Germany  Spain\n",
       "0           0      0\n",
       "1           0      1\n",
       "2           0      0\n",
       "3           0      0\n",
       "4           0      1\n",
       "...       ...    ...\n",
       "9995        0      0\n",
       "9996        0      0\n",
       "9997        0      0\n",
       "9998        1      0\n",
       "9999        0      0\n",
       "\n",
       "[10000 rows x 2 columns]"
      ]
     },
     "execution_count": 21,
     "metadata": {},
     "output_type": "execute_result"
    }
   ],
   "source": [
    "geo"
   ]
  },
  {
   "cell_type": "code",
   "execution_count": 22,
   "metadata": {},
   "outputs": [],
   "source": [
    "df = pd.concat([df.drop('Geography', axis=1), geo], axis = 1)"
   ]
  },
  {
   "cell_type": "code",
   "execution_count": 25,
   "metadata": {},
   "outputs": [
    {
     "data": {
      "text/html": [
       "<div>\n",
       "<style scoped>\n",
       "    .dataframe tbody tr th:only-of-type {\n",
       "        vertical-align: middle;\n",
       "    }\n",
       "\n",
       "    .dataframe tbody tr th {\n",
       "        vertical-align: top;\n",
       "    }\n",
       "\n",
       "    .dataframe thead th {\n",
       "        text-align: right;\n",
       "    }\n",
       "</style>\n",
       "<table border=\"1\" class=\"dataframe\">\n",
       "  <thead>\n",
       "    <tr style=\"text-align: right;\">\n",
       "      <th></th>\n",
       "      <th>RowNumber</th>\n",
       "      <th>CustomerId</th>\n",
       "      <th>Surname</th>\n",
       "      <th>CreditScore</th>\n",
       "      <th>Gender</th>\n",
       "      <th>Age</th>\n",
       "      <th>Tenure</th>\n",
       "      <th>Balance</th>\n",
       "      <th>NumOfProducts</th>\n",
       "      <th>HasCrCard</th>\n",
       "      <th>IsActiveMember</th>\n",
       "      <th>EstimatedSalary</th>\n",
       "      <th>Exited</th>\n",
       "      <th>Germany</th>\n",
       "      <th>Spain</th>\n",
       "    </tr>\n",
       "  </thead>\n",
       "  <tbody>\n",
       "    <tr>\n",
       "      <th>0</th>\n",
       "      <td>1</td>\n",
       "      <td>15634602</td>\n",
       "      <td>Hargrave</td>\n",
       "      <td>619</td>\n",
       "      <td>Female</td>\n",
       "      <td>42</td>\n",
       "      <td>2</td>\n",
       "      <td>0.00</td>\n",
       "      <td>1</td>\n",
       "      <td>1</td>\n",
       "      <td>1</td>\n",
       "      <td>101348.88</td>\n",
       "      <td>1</td>\n",
       "      <td>0</td>\n",
       "      <td>0</td>\n",
       "    </tr>\n",
       "    <tr>\n",
       "      <th>1</th>\n",
       "      <td>2</td>\n",
       "      <td>15647311</td>\n",
       "      <td>Hill</td>\n",
       "      <td>608</td>\n",
       "      <td>Female</td>\n",
       "      <td>41</td>\n",
       "      <td>1</td>\n",
       "      <td>83807.86</td>\n",
       "      <td>1</td>\n",
       "      <td>0</td>\n",
       "      <td>1</td>\n",
       "      <td>112542.58</td>\n",
       "      <td>0</td>\n",
       "      <td>0</td>\n",
       "      <td>1</td>\n",
       "    </tr>\n",
       "    <tr>\n",
       "      <th>2</th>\n",
       "      <td>3</td>\n",
       "      <td>15619304</td>\n",
       "      <td>Onio</td>\n",
       "      <td>502</td>\n",
       "      <td>Female</td>\n",
       "      <td>42</td>\n",
       "      <td>8</td>\n",
       "      <td>159660.80</td>\n",
       "      <td>3</td>\n",
       "      <td>1</td>\n",
       "      <td>0</td>\n",
       "      <td>113931.57</td>\n",
       "      <td>1</td>\n",
       "      <td>0</td>\n",
       "      <td>0</td>\n",
       "    </tr>\n",
       "    <tr>\n",
       "      <th>3</th>\n",
       "      <td>4</td>\n",
       "      <td>15701354</td>\n",
       "      <td>Boni</td>\n",
       "      <td>699</td>\n",
       "      <td>Female</td>\n",
       "      <td>39</td>\n",
       "      <td>1</td>\n",
       "      <td>0.00</td>\n",
       "      <td>2</td>\n",
       "      <td>0</td>\n",
       "      <td>0</td>\n",
       "      <td>93826.63</td>\n",
       "      <td>0</td>\n",
       "      <td>0</td>\n",
       "      <td>0</td>\n",
       "    </tr>\n",
       "    <tr>\n",
       "      <th>4</th>\n",
       "      <td>5</td>\n",
       "      <td>15737888</td>\n",
       "      <td>Mitchell</td>\n",
       "      <td>850</td>\n",
       "      <td>Female</td>\n",
       "      <td>43</td>\n",
       "      <td>2</td>\n",
       "      <td>125510.82</td>\n",
       "      <td>1</td>\n",
       "      <td>1</td>\n",
       "      <td>1</td>\n",
       "      <td>79084.10</td>\n",
       "      <td>0</td>\n",
       "      <td>0</td>\n",
       "      <td>1</td>\n",
       "    </tr>\n",
       "  </tbody>\n",
       "</table>\n",
       "</div>"
      ],
      "text/plain": [
       "   RowNumber  CustomerId   Surname  CreditScore  Gender  Age  Tenure  \\\n",
       "0          1    15634602  Hargrave          619  Female   42       2   \n",
       "1          2    15647311      Hill          608  Female   41       1   \n",
       "2          3    15619304      Onio          502  Female   42       8   \n",
       "3          4    15701354      Boni          699  Female   39       1   \n",
       "4          5    15737888  Mitchell          850  Female   43       2   \n",
       "\n",
       "     Balance  NumOfProducts  HasCrCard  IsActiveMember  EstimatedSalary  \\\n",
       "0       0.00              1          1               1        101348.88   \n",
       "1   83807.86              1          0               1        112542.58   \n",
       "2  159660.80              3          1               0        113931.57   \n",
       "3       0.00              2          0               0         93826.63   \n",
       "4  125510.82              1          1               1         79084.10   \n",
       "\n",
       "   Exited  Germany  Spain  \n",
       "0       1        0      0  \n",
       "1       0        0      1  \n",
       "2       1        0      0  \n",
       "3       0        0      0  \n",
       "4       0        0      1  "
      ]
     },
     "execution_count": 25,
     "metadata": {},
     "output_type": "execute_result"
    }
   ],
   "source": [
    "df.head()"
   ]
  },
  {
   "cell_type": "code",
   "execution_count": 26,
   "metadata": {},
   "outputs": [
    {
     "data": {
      "text/plain": [
       "10000"
      ]
     },
     "execution_count": 26,
     "metadata": {},
     "output_type": "execute_result"
    }
   ],
   "source": [
    "df['CustomerId'].nunique()"
   ]
  },
  {
   "cell_type": "code",
   "execution_count": 24,
   "metadata": {},
   "outputs": [],
   "source": [
    "gen = pd.get_dummies(df['Gender'], drop_first=True)"
   ]
  },
  {
   "cell_type": "code",
   "execution_count": 28,
   "metadata": {},
   "outputs": [],
   "source": [
    "df = pd.concat([df.drop(['Gender', 'RowNumber', 'CustomerId','Surname'], axis = 1 ), gen], axis=1)"
   ]
  },
  {
   "cell_type": "code",
   "execution_count": 29,
   "metadata": {},
   "outputs": [
    {
     "data": {
      "text/html": [
       "<div>\n",
       "<style scoped>\n",
       "    .dataframe tbody tr th:only-of-type {\n",
       "        vertical-align: middle;\n",
       "    }\n",
       "\n",
       "    .dataframe tbody tr th {\n",
       "        vertical-align: top;\n",
       "    }\n",
       "\n",
       "    .dataframe thead th {\n",
       "        text-align: right;\n",
       "    }\n",
       "</style>\n",
       "<table border=\"1\" class=\"dataframe\">\n",
       "  <thead>\n",
       "    <tr style=\"text-align: right;\">\n",
       "      <th></th>\n",
       "      <th>CreditScore</th>\n",
       "      <th>Age</th>\n",
       "      <th>Tenure</th>\n",
       "      <th>Balance</th>\n",
       "      <th>NumOfProducts</th>\n",
       "      <th>HasCrCard</th>\n",
       "      <th>IsActiveMember</th>\n",
       "      <th>EstimatedSalary</th>\n",
       "      <th>Exited</th>\n",
       "      <th>Germany</th>\n",
       "      <th>Spain</th>\n",
       "      <th>Male</th>\n",
       "    </tr>\n",
       "  </thead>\n",
       "  <tbody>\n",
       "    <tr>\n",
       "      <th>0</th>\n",
       "      <td>619</td>\n",
       "      <td>42</td>\n",
       "      <td>2</td>\n",
       "      <td>0.00</td>\n",
       "      <td>1</td>\n",
       "      <td>1</td>\n",
       "      <td>1</td>\n",
       "      <td>101348.88</td>\n",
       "      <td>1</td>\n",
       "      <td>0</td>\n",
       "      <td>0</td>\n",
       "      <td>0</td>\n",
       "    </tr>\n",
       "    <tr>\n",
       "      <th>1</th>\n",
       "      <td>608</td>\n",
       "      <td>41</td>\n",
       "      <td>1</td>\n",
       "      <td>83807.86</td>\n",
       "      <td>1</td>\n",
       "      <td>0</td>\n",
       "      <td>1</td>\n",
       "      <td>112542.58</td>\n",
       "      <td>0</td>\n",
       "      <td>0</td>\n",
       "      <td>1</td>\n",
       "      <td>0</td>\n",
       "    </tr>\n",
       "    <tr>\n",
       "      <th>2</th>\n",
       "      <td>502</td>\n",
       "      <td>42</td>\n",
       "      <td>8</td>\n",
       "      <td>159660.80</td>\n",
       "      <td>3</td>\n",
       "      <td>1</td>\n",
       "      <td>0</td>\n",
       "      <td>113931.57</td>\n",
       "      <td>1</td>\n",
       "      <td>0</td>\n",
       "      <td>0</td>\n",
       "      <td>0</td>\n",
       "    </tr>\n",
       "    <tr>\n",
       "      <th>3</th>\n",
       "      <td>699</td>\n",
       "      <td>39</td>\n",
       "      <td>1</td>\n",
       "      <td>0.00</td>\n",
       "      <td>2</td>\n",
       "      <td>0</td>\n",
       "      <td>0</td>\n",
       "      <td>93826.63</td>\n",
       "      <td>0</td>\n",
       "      <td>0</td>\n",
       "      <td>0</td>\n",
       "      <td>0</td>\n",
       "    </tr>\n",
       "    <tr>\n",
       "      <th>4</th>\n",
       "      <td>850</td>\n",
       "      <td>43</td>\n",
       "      <td>2</td>\n",
       "      <td>125510.82</td>\n",
       "      <td>1</td>\n",
       "      <td>1</td>\n",
       "      <td>1</td>\n",
       "      <td>79084.10</td>\n",
       "      <td>0</td>\n",
       "      <td>0</td>\n",
       "      <td>1</td>\n",
       "      <td>0</td>\n",
       "    </tr>\n",
       "  </tbody>\n",
       "</table>\n",
       "</div>"
      ],
      "text/plain": [
       "   CreditScore  Age  Tenure    Balance  NumOfProducts  HasCrCard  \\\n",
       "0          619   42       2       0.00              1          1   \n",
       "1          608   41       1   83807.86              1          0   \n",
       "2          502   42       8  159660.80              3          1   \n",
       "3          699   39       1       0.00              2          0   \n",
       "4          850   43       2  125510.82              1          1   \n",
       "\n",
       "   IsActiveMember  EstimatedSalary  Exited  Germany  Spain  Male  \n",
       "0               1        101348.88       1        0      0     0  \n",
       "1               1        112542.58       0        0      1     0  \n",
       "2               0        113931.57       1        0      0     0  \n",
       "3               0         93826.63       0        0      0     0  \n",
       "4               1         79084.10       0        0      1     0  "
      ]
     },
     "execution_count": 29,
     "metadata": {},
     "output_type": "execute_result"
    }
   ],
   "source": [
    "df.head()"
   ]
  },
  {
   "cell_type": "code",
   "execution_count": 31,
   "metadata": {},
   "outputs": [],
   "source": [
    "from sklearn.model_selection import train_test_split"
   ]
  },
  {
   "cell_type": "code",
   "execution_count": 41,
   "metadata": {},
   "outputs": [],
   "source": [
    "X = df.drop('Exited', axis=1).values"
   ]
  },
  {
   "cell_type": "code",
   "execution_count": 42,
   "metadata": {},
   "outputs": [],
   "source": [
    "y = df['Exited'].values"
   ]
  },
  {
   "cell_type": "code",
   "execution_count": 43,
   "metadata": {},
   "outputs": [],
   "source": [
    "X_train, X_test, y_train, y_test = train_test_split(X, y, test_size=0.25, random_state=101)"
   ]
  },
  {
   "cell_type": "code",
   "execution_count": 44,
   "metadata": {},
   "outputs": [],
   "source": [
    "from sklearn.preprocessing import MinMaxScaler"
   ]
  },
  {
   "cell_type": "code",
   "execution_count": 45,
   "metadata": {},
   "outputs": [],
   "source": [
    "scaler = MinMaxScaler()"
   ]
  },
  {
   "cell_type": "code",
   "execution_count": 46,
   "metadata": {},
   "outputs": [
    {
     "data": {
      "text/plain": [
       "MinMaxScaler()"
      ]
     },
     "execution_count": 46,
     "metadata": {},
     "output_type": "execute_result"
    }
   ],
   "source": [
    "scaler.fit(X_train)"
   ]
  },
  {
   "cell_type": "code",
   "execution_count": 47,
   "metadata": {},
   "outputs": [],
   "source": [
    "X_train = scaler.transform(X_train)"
   ]
  },
  {
   "cell_type": "code",
   "execution_count": 48,
   "metadata": {},
   "outputs": [],
   "source": [
    "X_test = scaler.transform(X_test)"
   ]
  },
  {
   "cell_type": "code",
   "execution_count": 49,
   "metadata": {},
   "outputs": [
    {
     "data": {
      "text/plain": [
       "(7500, 11)"
      ]
     },
     "execution_count": 49,
     "metadata": {},
     "output_type": "execute_result"
    }
   ],
   "source": [
    "X_train.shape"
   ]
  },
  {
   "cell_type": "code",
   "execution_count": 50,
   "metadata": {},
   "outputs": [],
   "source": [
    "from tensorflow.keras.models import Sequential"
   ]
  },
  {
   "cell_type": "code",
   "execution_count": 51,
   "metadata": {},
   "outputs": [],
   "source": [
    "from tensorflow.keras.layers import Dense, Dropout"
   ]
  },
  {
   "cell_type": "code",
   "execution_count": 68,
   "metadata": {},
   "outputs": [],
   "source": [
    "model = Sequential()\n",
    "\n",
    "model.add(Dense(11, activation='relu'))\n",
    "model.add(Dropout(0.1))\n",
    "\n",
    "model.add(Dense(6, activation='relu'))\n",
    "model.add(Dropout(0.1))\n",
    "\n",
    "\n",
    "model.add(Dense(1, activation='sigmoid'))\n",
    "\n",
    "model.compile(optimizer = 'adam', loss = 'binary_crossentropy', metrics = ['accuracy'])\n"
   ]
  },
  {
   "cell_type": "code",
   "execution_count": 69,
   "metadata": {},
   "outputs": [],
   "source": [
    "from tensorflow.keras.callbacks import EarlyStopping"
   ]
  },
  {
   "cell_type": "code",
   "execution_count": 70,
   "metadata": {},
   "outputs": [],
   "source": [
    "early = EarlyStopping(monitor = 'val_loss',mode='min', patience=10)"
   ]
  },
  {
   "cell_type": "code",
   "execution_count": 71,
   "metadata": {},
   "outputs": [
    {
     "name": "stdout",
     "output_type": "stream",
     "text": [
      "Train on 7500 samples, validate on 2500 samples\n",
      "Epoch 1/90\n",
      "7500/7500 [==============================] - 4s 521us/sample - loss: 0.5454 - accuracy: 0.7655 - val_loss: 0.4953 - val_accuracy: 0.7900\n",
      "Epoch 2/90\n",
      "7500/7500 [==============================] - 2s 202us/sample - loss: 0.4886 - accuracy: 0.7984 - val_loss: 0.4808 - val_accuracy: 0.7900\n",
      "Epoch 3/90\n",
      "7500/7500 [==============================] - 2s 204us/sample - loss: 0.4809 - accuracy: 0.7985 - val_loss: 0.4716 - val_accuracy: 0.7900\n",
      "Epoch 4/90\n",
      "7500/7500 [==============================] - 2s 205us/sample - loss: 0.4715 - accuracy: 0.7984 - val_loss: 0.4646 - val_accuracy: 0.7900\n",
      "Epoch 5/90\n",
      "7500/7500 [==============================] - 2s 202us/sample - loss: 0.4653 - accuracy: 0.8009 - val_loss: 0.4582 - val_accuracy: 0.7904\n",
      "Epoch 6/90\n",
      "7500/7500 [==============================] - 2s 204us/sample - loss: 0.4601 - accuracy: 0.8056 - val_loss: 0.4495 - val_accuracy: 0.7996\n",
      "Epoch 7/90\n",
      "7500/7500 [==============================] - 2s 202us/sample - loss: 0.4557 - accuracy: 0.8060 - val_loss: 0.4425 - val_accuracy: 0.7996\n",
      "Epoch 8/90\n",
      "7500/7500 [==============================] - 2s 205us/sample - loss: 0.4487 - accuracy: 0.8071 - val_loss: 0.4312 - val_accuracy: 0.8048\n",
      "Epoch 9/90\n",
      "7500/7500 [==============================] - 2s 207us/sample - loss: 0.4372 - accuracy: 0.8107 - val_loss: 0.4190 - val_accuracy: 0.8052\n",
      "Epoch 10/90\n",
      "7500/7500 [==============================] - 2s 205us/sample - loss: 0.4303 - accuracy: 0.8123 - val_loss: 0.4083 - val_accuracy: 0.8144\n",
      "Epoch 11/90\n",
      "7500/7500 [==============================] - 2s 239us/sample - loss: 0.4204 - accuracy: 0.8147 - val_loss: 0.4010 - val_accuracy: 0.8172\n",
      "Epoch 12/90\n",
      "7500/7500 [==============================] - 1s 197us/sample - loss: 0.4158 - accuracy: 0.8159 - val_loss: 0.3963 - val_accuracy: 0.8136\n",
      "Epoch 13/90\n",
      "7500/7500 [==============================] - 1s 189us/sample - loss: 0.4095 - accuracy: 0.8153 - val_loss: 0.3886 - val_accuracy: 0.8228\n",
      "Epoch 14/90\n",
      "7500/7500 [==============================] - 2s 222us/sample - loss: 0.4092 - accuracy: 0.8149 - val_loss: 0.3868 - val_accuracy: 0.8224\n",
      "Epoch 15/90\n",
      "7500/7500 [==============================] - 1s 168us/sample - loss: 0.4081 - accuracy: 0.8168 - val_loss: 0.3843 - val_accuracy: 0.8240\n",
      "Epoch 16/90\n",
      "7500/7500 [==============================] - 1s 167us/sample - loss: 0.4068 - accuracy: 0.8160 - val_loss: 0.3815 - val_accuracy: 0.8200\n",
      "Epoch 17/90\n",
      "7500/7500 [==============================] - 1s 162us/sample - loss: 0.4002 - accuracy: 0.8188 - val_loss: 0.3792 - val_accuracy: 0.8204\n",
      "Epoch 18/90\n",
      "7500/7500 [==============================] - 1s 181us/sample - loss: 0.3977 - accuracy: 0.8181 - val_loss: 0.3761 - val_accuracy: 0.8260\n",
      "Epoch 19/90\n",
      "7500/7500 [==============================] - 1s 167us/sample - loss: 0.4002 - accuracy: 0.8148 - val_loss: 0.3739 - val_accuracy: 0.8244\n",
      "Epoch 20/90\n",
      "7500/7500 [==============================] - 1s 167us/sample - loss: 0.3998 - accuracy: 0.8169 - val_loss: 0.3740 - val_accuracy: 0.8244\n",
      "Epoch 21/90\n",
      "7500/7500 [==============================] - 1s 172us/sample - loss: 0.3967 - accuracy: 0.8244 - val_loss: 0.3715 - val_accuracy: 0.8396\n",
      "Epoch 22/90\n",
      "7500/7500 [==============================] - 1s 184us/sample - loss: 0.3938 - accuracy: 0.8384 - val_loss: 0.3704 - val_accuracy: 0.8380\n",
      "Epoch 23/90\n",
      "7500/7500 [==============================] - 1s 174us/sample - loss: 0.3939 - accuracy: 0.8388 - val_loss: 0.3685 - val_accuracy: 0.8416\n",
      "Epoch 24/90\n",
      "7500/7500 [==============================] - 1s 200us/sample - loss: 0.3942 - accuracy: 0.8364 - val_loss: 0.3682 - val_accuracy: 0.8468\n",
      "Epoch 25/90\n",
      "7500/7500 [==============================] - 1s 170us/sample - loss: 0.3946 - accuracy: 0.8377 - val_loss: 0.3652 - val_accuracy: 0.8476\n",
      "Epoch 26/90\n",
      "7500/7500 [==============================] - 1s 187us/sample - loss: 0.3925 - accuracy: 0.8416 - val_loss: 0.3646 - val_accuracy: 0.8484\n",
      "Epoch 27/90\n",
      "7500/7500 [==============================] - 1s 167us/sample - loss: 0.3885 - accuracy: 0.8421 - val_loss: 0.3630 - val_accuracy: 0.8444\n",
      "Epoch 28/90\n",
      "7500/7500 [==============================] - 1s 162us/sample - loss: 0.3896 - accuracy: 0.8432 - val_loss: 0.3619 - val_accuracy: 0.8432\n",
      "Epoch 29/90\n",
      "7500/7500 [==============================] - 1s 187us/sample - loss: 0.3872 - accuracy: 0.8433 - val_loss: 0.3606 - val_accuracy: 0.8488\n",
      "Epoch 30/90\n",
      "7500/7500 [==============================] - 2s 259us/sample - loss: 0.3869 - accuracy: 0.8427 - val_loss: 0.3593 - val_accuracy: 0.8480\n",
      "Epoch 31/90\n",
      "7500/7500 [==============================] - 2s 224us/sample - loss: 0.3866 - accuracy: 0.8473 - val_loss: 0.3598 - val_accuracy: 0.8444\n",
      "Epoch 32/90\n",
      "7500/7500 [==============================] - 2s 211us/sample - loss: 0.3908 - accuracy: 0.8419 - val_loss: 0.3603 - val_accuracy: 0.8504\n",
      "Epoch 33/90\n",
      "7500/7500 [==============================] - 2s 214us/sample - loss: 0.3841 - accuracy: 0.8447 - val_loss: 0.3585 - val_accuracy: 0.8528\n",
      "Epoch 34/90\n",
      "7500/7500 [==============================] - 2s 209us/sample - loss: 0.3898 - accuracy: 0.8419 - val_loss: 0.3576 - val_accuracy: 0.8536\n",
      "Epoch 35/90\n",
      "7500/7500 [==============================] - 2s 211us/sample - loss: 0.3853 - accuracy: 0.8436 - val_loss: 0.3549 - val_accuracy: 0.8520\n",
      "Epoch 36/90\n",
      "7500/7500 [==============================] - 2s 216us/sample - loss: 0.3860 - accuracy: 0.8420 - val_loss: 0.3560 - val_accuracy: 0.8544\n",
      "Epoch 37/90\n",
      "7500/7500 [==============================] - 2s 216us/sample - loss: 0.3822 - accuracy: 0.8468 - val_loss: 0.3548 - val_accuracy: 0.8532\n",
      "Epoch 38/90\n",
      "7500/7500 [==============================] - 2s 213us/sample - loss: 0.3824 - accuracy: 0.8483 - val_loss: 0.3585 - val_accuracy: 0.8488\n",
      "Epoch 39/90\n",
      "7500/7500 [==============================] - 2s 222us/sample - loss: 0.3820 - accuracy: 0.8456 - val_loss: 0.3533 - val_accuracy: 0.8560\n",
      "Epoch 40/90\n",
      "7500/7500 [==============================] - 2s 221us/sample - loss: 0.3830 - accuracy: 0.8465 - val_loss: 0.3512 - val_accuracy: 0.8504\n",
      "Epoch 41/90\n",
      "7500/7500 [==============================] - 2s 247us/sample - loss: 0.3808 - accuracy: 0.8433 - val_loss: 0.3516 - val_accuracy: 0.8508\n",
      "Epoch 42/90\n",
      "7500/7500 [==============================] - 2s 216us/sample - loss: 0.3777 - accuracy: 0.8451 - val_loss: 0.3493 - val_accuracy: 0.8544\n",
      "Epoch 43/90\n",
      "7500/7500 [==============================] - 2s 213us/sample - loss: 0.3822 - accuracy: 0.8465 - val_loss: 0.3495 - val_accuracy: 0.8536\n",
      "Epoch 44/90\n",
      "7500/7500 [==============================] - 2s 211us/sample - loss: 0.3807 - accuracy: 0.8467 - val_loss: 0.3488 - val_accuracy: 0.8536\n",
      "Epoch 45/90\n",
      "7500/7500 [==============================] - 2s 209us/sample - loss: 0.3833 - accuracy: 0.8472 - val_loss: 0.3503 - val_accuracy: 0.8532\n",
      "Epoch 46/90\n",
      "7500/7500 [==============================] - 2s 209us/sample - loss: 0.3789 - accuracy: 0.8464 - val_loss: 0.3485 - val_accuracy: 0.8556\n",
      "Epoch 47/90\n",
      "7500/7500 [==============================] - 2s 211us/sample - loss: 0.3813 - accuracy: 0.8457 - val_loss: 0.3489 - val_accuracy: 0.8572\n",
      "Epoch 48/90\n",
      "7500/7500 [==============================] - 2s 211us/sample - loss: 0.3822 - accuracy: 0.8489 - val_loss: 0.3463 - val_accuracy: 0.8560\n",
      "Epoch 49/90\n",
      "7500/7500 [==============================] - 2s 216us/sample - loss: 0.3840 - accuracy: 0.8477 - val_loss: 0.3470 - val_accuracy: 0.8556\n",
      "Epoch 50/90\n",
      "7500/7500 [==============================] - 2s 213us/sample - loss: 0.3749 - accuracy: 0.8507 - val_loss: 0.3475 - val_accuracy: 0.8556\n",
      "Epoch 51/90\n",
      "7500/7500 [==============================] - 2s 209us/sample - loss: 0.3793 - accuracy: 0.8499 - val_loss: 0.3454 - val_accuracy: 0.8560\n",
      "Epoch 52/90\n",
      "7500/7500 [==============================] - 2s 218us/sample - loss: 0.3777 - accuracy: 0.8479 - val_loss: 0.3478 - val_accuracy: 0.8584\n",
      "Epoch 53/90\n",
      "7500/7500 [==============================] - 2s 217us/sample - loss: 0.3744 - accuracy: 0.8491 - val_loss: 0.3453 - val_accuracy: 0.8556\n",
      "Epoch 54/90\n",
      "7500/7500 [==============================] - 2s 215us/sample - loss: 0.3777 - accuracy: 0.8488 - val_loss: 0.3465 - val_accuracy: 0.8580\n",
      "Epoch 55/90\n",
      "7500/7500 [==============================] - 2s 214us/sample - loss: 0.3785 - accuracy: 0.8483 - val_loss: 0.3453 - val_accuracy: 0.8536\n"
     ]
    },
    {
     "name": "stdout",
     "output_type": "stream",
     "text": [
      "Epoch 56/90\n",
      "7500/7500 [==============================] - 1s 189us/sample - loss: 0.3783 - accuracy: 0.8479 - val_loss: 0.3449 - val_accuracy: 0.8556\n",
      "Epoch 57/90\n",
      "7500/7500 [==============================] - 1s 192us/sample - loss: 0.3754 - accuracy: 0.8497 - val_loss: 0.3449 - val_accuracy: 0.8556\n",
      "Epoch 58/90\n",
      "7500/7500 [==============================] - 1s 191us/sample - loss: 0.3751 - accuracy: 0.8501 - val_loss: 0.3438 - val_accuracy: 0.8596\n",
      "Epoch 59/90\n",
      "7500/7500 [==============================] - 1s 194us/sample - loss: 0.3737 - accuracy: 0.8499 - val_loss: 0.3441 - val_accuracy: 0.8584\n",
      "Epoch 60/90\n",
      "7500/7500 [==============================] - 1s 189us/sample - loss: 0.3810 - accuracy: 0.8472 - val_loss: 0.3445 - val_accuracy: 0.8576\n",
      "Epoch 61/90\n",
      "7500/7500 [==============================] - 1s 191us/sample - loss: 0.3763 - accuracy: 0.8501 - val_loss: 0.3429 - val_accuracy: 0.8588\n",
      "Epoch 62/90\n",
      "7500/7500 [==============================] - 1s 192us/sample - loss: 0.3790 - accuracy: 0.8476 - val_loss: 0.3445 - val_accuracy: 0.8600\n",
      "Epoch 63/90\n",
      "7500/7500 [==============================] - 1s 191us/sample - loss: 0.3760 - accuracy: 0.8523 - val_loss: 0.3428 - val_accuracy: 0.8572\n",
      "Epoch 64/90\n",
      "7500/7500 [==============================] - 1s 191us/sample - loss: 0.3743 - accuracy: 0.8513 - val_loss: 0.3434 - val_accuracy: 0.8608\n",
      "Epoch 65/90\n",
      "7500/7500 [==============================] - 2s 219us/sample - loss: 0.3734 - accuracy: 0.8496 - val_loss: 0.3419 - val_accuracy: 0.8592\n",
      "Epoch 66/90\n",
      "7500/7500 [==============================] - 2s 216us/sample - loss: 0.3701 - accuracy: 0.8520 - val_loss: 0.3394 - val_accuracy: 0.8596\n",
      "Epoch 67/90\n",
      "7500/7500 [==============================] - 2s 235us/sample - loss: 0.3698 - accuracy: 0.8528 - val_loss: 0.3393 - val_accuracy: 0.8588\n",
      "Epoch 68/90\n",
      "7500/7500 [==============================] - 2s 236us/sample - loss: 0.3694 - accuracy: 0.8535 - val_loss: 0.3392 - val_accuracy: 0.8576\n",
      "Epoch 69/90\n",
      "7500/7500 [==============================] - 2s 231us/sample - loss: 0.3675 - accuracy: 0.8529 - val_loss: 0.3373 - val_accuracy: 0.8604\n",
      "Epoch 70/90\n",
      "7500/7500 [==============================] - 2s 213us/sample - loss: 0.3696 - accuracy: 0.8471 - val_loss: 0.3366 - val_accuracy: 0.8600\n",
      "Epoch 71/90\n",
      "7500/7500 [==============================] - 2s 234us/sample - loss: 0.3711 - accuracy: 0.8505 - val_loss: 0.3365 - val_accuracy: 0.8604\n",
      "Epoch 72/90\n",
      "7500/7500 [==============================] - 2s 225us/sample - loss: 0.3701 - accuracy: 0.8524 - val_loss: 0.3374 - val_accuracy: 0.8572\n",
      "Epoch 73/90\n",
      "7500/7500 [==============================] - 2s 222us/sample - loss: 0.3664 - accuracy: 0.8521 - val_loss: 0.3373 - val_accuracy: 0.8592\n",
      "Epoch 74/90\n",
      "7500/7500 [==============================] - 2s 228us/sample - loss: 0.3715 - accuracy: 0.8492 - val_loss: 0.3362 - val_accuracy: 0.8600\n",
      "Epoch 75/90\n",
      "7500/7500 [==============================] - 2s 254us/sample - loss: 0.3690 - accuracy: 0.8516 - val_loss: 0.3360 - val_accuracy: 0.8608\n",
      "Epoch 76/90\n",
      "7500/7500 [==============================] - 2s 220us/sample - loss: 0.3664 - accuracy: 0.8541 - val_loss: 0.3349 - val_accuracy: 0.8624\n",
      "Epoch 77/90\n",
      "7500/7500 [==============================] - 2s 241us/sample - loss: 0.3676 - accuracy: 0.8505 - val_loss: 0.3352 - val_accuracy: 0.8616\n",
      "Epoch 78/90\n",
      "7500/7500 [==============================] - 2s 214us/sample - loss: 0.3661 - accuracy: 0.8499 - val_loss: 0.3365 - val_accuracy: 0.8584\n",
      "Epoch 79/90\n",
      "7500/7500 [==============================] - 2s 238us/sample - loss: 0.3664 - accuracy: 0.8520 - val_loss: 0.3351 - val_accuracy: 0.8612\n",
      "Epoch 80/90\n",
      "7500/7500 [==============================] - 2s 239us/sample - loss: 0.3701 - accuracy: 0.8517 - val_loss: 0.3337 - val_accuracy: 0.8564\n",
      "Epoch 81/90\n",
      "7500/7500 [==============================] - 2s 228us/sample - loss: 0.3665 - accuracy: 0.8513 - val_loss: 0.3344 - val_accuracy: 0.8596\n",
      "Epoch 82/90\n",
      "7500/7500 [==============================] - 2s 222us/sample - loss: 0.3691 - accuracy: 0.8520 - val_loss: 0.3351 - val_accuracy: 0.8592\n",
      "Epoch 83/90\n",
      "7500/7500 [==============================] - 2s 229us/sample - loss: 0.3657 - accuracy: 0.8508 - val_loss: 0.3351 - val_accuracy: 0.8628\n",
      "Epoch 84/90\n",
      "7500/7500 [==============================] - 2s 227us/sample - loss: 0.3655 - accuracy: 0.8500 - val_loss: 0.3325 - val_accuracy: 0.8584\n",
      "Epoch 85/90\n",
      "7500/7500 [==============================] - 2s 231us/sample - loss: 0.3617 - accuracy: 0.8529 - val_loss: 0.3314 - val_accuracy: 0.8600\n",
      "Epoch 86/90\n",
      "7500/7500 [==============================] - 2s 225us/sample - loss: 0.3615 - accuracy: 0.8536 - val_loss: 0.3333 - val_accuracy: 0.8604\n",
      "Epoch 87/90\n",
      "7500/7500 [==============================] - 2s 231us/sample - loss: 0.3635 - accuracy: 0.8540 - val_loss: 0.3332 - val_accuracy: 0.8604\n",
      "Epoch 88/90\n",
      "7500/7500 [==============================] - 2s 226us/sample - loss: 0.3628 - accuracy: 0.8525 - val_loss: 0.3324 - val_accuracy: 0.8592\n",
      "Epoch 89/90\n",
      "7500/7500 [==============================] - 2s 239us/sample - loss: 0.3649 - accuracy: 0.8503 - val_loss: 0.3311 - val_accuracy: 0.8604\n",
      "Epoch 90/90\n",
      "7500/7500 [==============================] - 2s 225us/sample - loss: 0.3673 - accuracy: 0.8508 - val_loss: 0.3334 - val_accuracy: 0.8608\n"
     ]
    },
    {
     "data": {
      "text/plain": [
       "<tensorflow.python.keras.callbacks.History at 0x215409c2a08>"
      ]
     },
     "execution_count": 71,
     "metadata": {},
     "output_type": "execute_result"
    }
   ],
   "source": [
    "model.fit(x = X_train , y=y_train, epochs = 90 , validation_data = (X_test, y_test), callbacks = [early])"
   ]
  },
  {
   "cell_type": "code",
   "execution_count": 72,
   "metadata": {},
   "outputs": [],
   "source": [
    "loss = pd.DataFrame(model.history.history)"
   ]
  },
  {
   "cell_type": "code",
   "execution_count": 73,
   "metadata": {},
   "outputs": [
    {
     "data": {
      "text/html": [
       "<div>\n",
       "<style scoped>\n",
       "    .dataframe tbody tr th:only-of-type {\n",
       "        vertical-align: middle;\n",
       "    }\n",
       "\n",
       "    .dataframe tbody tr th {\n",
       "        vertical-align: top;\n",
       "    }\n",
       "\n",
       "    .dataframe thead th {\n",
       "        text-align: right;\n",
       "    }\n",
       "</style>\n",
       "<table border=\"1\" class=\"dataframe\">\n",
       "  <thead>\n",
       "    <tr style=\"text-align: right;\">\n",
       "      <th></th>\n",
       "      <th>loss</th>\n",
       "      <th>accuracy</th>\n",
       "      <th>val_loss</th>\n",
       "      <th>val_accuracy</th>\n",
       "    </tr>\n",
       "  </thead>\n",
       "  <tbody>\n",
       "    <tr>\n",
       "      <th>0</th>\n",
       "      <td>0.545360</td>\n",
       "      <td>0.765467</td>\n",
       "      <td>0.495315</td>\n",
       "      <td>0.7900</td>\n",
       "    </tr>\n",
       "    <tr>\n",
       "      <th>1</th>\n",
       "      <td>0.488570</td>\n",
       "      <td>0.798400</td>\n",
       "      <td>0.480760</td>\n",
       "      <td>0.7900</td>\n",
       "    </tr>\n",
       "    <tr>\n",
       "      <th>2</th>\n",
       "      <td>0.480857</td>\n",
       "      <td>0.798533</td>\n",
       "      <td>0.471623</td>\n",
       "      <td>0.7900</td>\n",
       "    </tr>\n",
       "    <tr>\n",
       "      <th>3</th>\n",
       "      <td>0.471536</td>\n",
       "      <td>0.798400</td>\n",
       "      <td>0.464572</td>\n",
       "      <td>0.7900</td>\n",
       "    </tr>\n",
       "    <tr>\n",
       "      <th>4</th>\n",
       "      <td>0.465296</td>\n",
       "      <td>0.800933</td>\n",
       "      <td>0.458192</td>\n",
       "      <td>0.7904</td>\n",
       "    </tr>\n",
       "    <tr>\n",
       "      <th>...</th>\n",
       "      <td>...</td>\n",
       "      <td>...</td>\n",
       "      <td>...</td>\n",
       "      <td>...</td>\n",
       "    </tr>\n",
       "    <tr>\n",
       "      <th>85</th>\n",
       "      <td>0.361480</td>\n",
       "      <td>0.853600</td>\n",
       "      <td>0.333301</td>\n",
       "      <td>0.8604</td>\n",
       "    </tr>\n",
       "    <tr>\n",
       "      <th>86</th>\n",
       "      <td>0.363526</td>\n",
       "      <td>0.854000</td>\n",
       "      <td>0.333159</td>\n",
       "      <td>0.8604</td>\n",
       "    </tr>\n",
       "    <tr>\n",
       "      <th>87</th>\n",
       "      <td>0.362751</td>\n",
       "      <td>0.852533</td>\n",
       "      <td>0.332413</td>\n",
       "      <td>0.8592</td>\n",
       "    </tr>\n",
       "    <tr>\n",
       "      <th>88</th>\n",
       "      <td>0.364887</td>\n",
       "      <td>0.850267</td>\n",
       "      <td>0.331134</td>\n",
       "      <td>0.8604</td>\n",
       "    </tr>\n",
       "    <tr>\n",
       "      <th>89</th>\n",
       "      <td>0.367308</td>\n",
       "      <td>0.850800</td>\n",
       "      <td>0.333391</td>\n",
       "      <td>0.8608</td>\n",
       "    </tr>\n",
       "  </tbody>\n",
       "</table>\n",
       "<p>90 rows × 4 columns</p>\n",
       "</div>"
      ],
      "text/plain": [
       "        loss  accuracy  val_loss  val_accuracy\n",
       "0   0.545360  0.765467  0.495315        0.7900\n",
       "1   0.488570  0.798400  0.480760        0.7900\n",
       "2   0.480857  0.798533  0.471623        0.7900\n",
       "3   0.471536  0.798400  0.464572        0.7900\n",
       "4   0.465296  0.800933  0.458192        0.7904\n",
       "..       ...       ...       ...           ...\n",
       "85  0.361480  0.853600  0.333301        0.8604\n",
       "86  0.363526  0.854000  0.333159        0.8604\n",
       "87  0.362751  0.852533  0.332413        0.8592\n",
       "88  0.364887  0.850267  0.331134        0.8604\n",
       "89  0.367308  0.850800  0.333391        0.8608\n",
       "\n",
       "[90 rows x 4 columns]"
      ]
     },
     "execution_count": 73,
     "metadata": {},
     "output_type": "execute_result"
    }
   ],
   "source": [
    "loss"
   ]
  },
  {
   "cell_type": "code",
   "execution_count": 74,
   "metadata": {},
   "outputs": [
    {
     "data": {
      "text/plain": [
       "<AxesSubplot:>"
      ]
     },
     "execution_count": 74,
     "metadata": {},
     "output_type": "execute_result"
    },
    {
     "data": {
      "image/png": "[encoded data removed]",
      "text/plain": [
       "<Figure size 432x288 with 1 Axes>"
      ]
     },
     "metadata": {
      "needs_background": "light"
     },
     "output_type": "display_data"
    }
   ],
   "source": [
    "loss[['loss', 'val_loss']].plot()"
   ]
  },
  {
   "cell_type": "code",
   "execution_count": 75,
   "metadata": {},
   "outputs": [
    {
     "data": {
      "text/plain": [
       "<AxesSubplot:>"
      ]
     },
     "execution_count": 75,
     "metadata": {},
     "output_type": "execute_result"
    },
    {
     "data": {
      "image/png": "[encoded data removed]",
      "text/plain": [
       "<Figure size 432x288 with 1 Axes>"
      ]
     },
     "metadata": {
      "needs_background": "light"
     },
     "output_type": "display_data"
    }
   ],
   "source": [
    "loss[['accuracy', 'val_accuracy']].plot()"
   ]
  },
  {
   "cell_type": "code",
   "execution_count": 82,
   "metadata": {},
   "outputs": [],
   "source": [
    "predd = model.predict_classes(X_test)"
   ]
  },
  {
   "cell_type": "code",
   "execution_count": 83,
   "metadata": {},
   "outputs": [
    {
     "data": {
      "text/plain": [
       "array([[0],\n",
       "       [0],\n",
       "       [0],\n",
       "       ...,\n",
       "       [0],\n",
       "       [0],\n",
       "       [0]])"
      ]
     },
     "execution_count": 83,
     "metadata": {},
     "output_type": "execute_result"
    }
   ],
   "source": [
    "predd"
   ]
  },
  {
   "cell_type": "code",
   "execution_count": 84,
   "metadata": {},
   "outputs": [],
   "source": [
    "from sklearn.metrics import confusion_matrix, classification_report"
   ]
  },
  {
   "cell_type": "code",
   "execution_count": 86,
   "metadata": {},
   "outputs": [
    {
     "name": "stdout",
     "output_type": "stream",
     "text": [
      "[[1897   78]\n",
      " [ 270  255]]\n"
     ]
    }
   ],
   "source": [
    "print(confusion_matrix(y_test, predd))\n",
    "\n"
   ]
  },
  {
   "cell_type": "code",
   "execution_count": 87,
   "metadata": {},
   "outputs": [
    {
     "name": "stdout",
     "output_type": "stream",
     "text": [
      "              precision    recall  f1-score   support\n",
      "\n",
      "           0       0.88      0.96      0.92      1975\n",
      "           1       0.77      0.49      0.59       525\n",
      "\n",
      "    accuracy                           0.86      2500\n",
      "   macro avg       0.82      0.72      0.76      2500\n",
      "weighted avg       0.85      0.86      0.85      2500\n",
      "\n"
     ]
    }
   ],
   "source": [
    "print(classification_report(y_test, predd))"
   ]
  },
  {
   "cell_type": "code",
   "execution_count": null,
   "metadata": {},
   "outputs": [],
   "source": []
  }
 ],
 "metadata": {
  "kernelspec": {
   "display_name": "Python 3",
   "language": "python",
   "name": "python3"
  },
  "language_info": {
   "codemirror_mode": {
    "name": "ipython",
    "version": 3
   },
   "file_extension": ".py",
   "mimetype": "text/x-python",
   "name": "python",
   "nbconvert_exporter": "python",
   "pygments_lexer": "ipython3",
   "version": "3.7.9"
  }
 },
 "nbformat": 4,
 "nbformat_minor": 4
}
